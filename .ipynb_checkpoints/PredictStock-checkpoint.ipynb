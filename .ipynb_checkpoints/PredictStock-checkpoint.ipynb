{
 "cells": [
  {
   "cell_type": "code",
   "execution_count": 5,
   "id": "63f27339-b3d9-4714-a932-27665bdd8d47",
   "metadata": {},
   "outputs": [],
   "source": [
    "import pandas\n",
    "import numpy as np\n",
    "\n",
    "%matplotlib inline\n",
    "import matplotlib.pyplot as plt\n",
    "import seaborn as sns\n",
    "\n",
    "from sklearn import metrics\n",
    "from matplotlib import pyplot as plt"
   ]
  },
  {
   "cell_type": "code",
   "execution_count": 6,
   "id": "2e52302c-e0a2-4c33-9f23-8ccfa677c0be",
   "metadata": {},
   "outputs": [
    {
     "ename": "NameError",
     "evalue": "name 'pandas' is not defined",
     "output_type": "error",
     "traceback": [
      "\u001b[1;31m---------------------------------------------------------------------------\u001b[0m",
      "\u001b[1;31mNameError\u001b[0m                                 Traceback (most recent call last)",
      "Cell \u001b[1;32mIn[6], line 2\u001b[0m\n\u001b[0;32m      1\u001b[0m \u001b[38;5;66;03m#Load Dataset\u001b[39;00m\n\u001b[1;32m----> 2\u001b[0m df \u001b[38;5;241m=\u001b[39m \u001b[43mpandas\u001b[49m\u001b[38;5;241m.\u001b[39mread_csv(\u001b[38;5;124m\"\u001b[39m\u001b[38;5;124mPSE_Stocks.csv\u001b[39m\u001b[38;5;124m\"\u001b[39m)\n\u001b[0;32m      4\u001b[0m \u001b[38;5;28mprint\u001b[39m(df\u001b[38;5;241m.\u001b[39mhead())\n",
      "\u001b[1;31mNameError\u001b[0m: name 'pandas' is not defined"
     ]
    }
   ],
   "source": [
    "#Load Dataset\n",
    "df = pandas.read_csv(\"PSE_Stocks.csv\")\n",
    "\n",
    "print(df.head())"
   ]
  },
  {
   "cell_type": "code",
   "execution_count": 6,
   "id": "75230864-efc2-4a36-a7f3-eb34bdf03759",
   "metadata": {},
   "outputs": [
    {
     "name": "stdout",
     "output_type": "stream",
     "text": [
      "(481920, 9)\n"
     ]
    }
   ],
   "source": [
    "print(df.shape)"
   ]
  },
  {
   "cell_type": "code",
   "execution_count": 7,
   "id": "6afe4e0d-bf1a-4136-9134-af31c9c25cab",
   "metadata": {},
   "outputs": [
    {
     "name": "stdout",
     "output_type": "stream",
     "text": [
      "                        Stock Name Code       Date   Price\n",
      "0  Abra Mining and Industrial Corp   AR   3-Mar-21  0.0046\n",
      "1  Abra Mining and Industrial Corp   AR   2-Mar-21  0.0054\n",
      "2  Abra Mining and Industrial Corp   AR   1-Mar-21  0.0036\n",
      "3  Abra Mining and Industrial Corp   AR  26-Feb-21  0.0034\n",
      "4  Abra Mining and Industrial Corp   AR  24-Feb-21  0.0034\n"
     ]
    }
   ],
   "source": [
    "#Data Processing\n",
    "df = df.drop(columns=['Open', 'High', 'Low', 'Volume', 'Change%'],axis = 1)\n",
    "\n",
    "print(df.head())"
   ]
  },
  {
   "cell_type": "code",
   "execution_count": 14,
   "id": "a49f258d-a410-4456-8083-de0cab3d0367",
   "metadata": {},
   "outputs": [
    {
     "data": {
      "text/plain": [
       "False"
      ]
     },
     "execution_count": 14,
     "metadata": {},
     "output_type": "execute_result"
    }
   ],
   "source": [
    "#Checking Duplicates\n",
    "df.duplicated().sum().any()"
   ]
  },
  {
   "cell_type": "code",
   "execution_count": 16,
   "id": "60cf384e-d071-4d6b-a353-d156a996813e",
   "metadata": {},
   "outputs": [
    {
     "data": {
      "text/plain": [
       "False"
      ]
     },
     "execution_count": 16,
     "metadata": {},
     "output_type": "execute_result"
    }
   ],
   "source": [
    "#Checking for Null Values\n",
    "#If there are any, they will be returned as True or False\n",
    "df.isnull().values.any()"
   ]
  },
  {
   "cell_type": "code",
   "execution_count": 8,
   "id": "da34ebf4-3682-4070-9dc3-d57622231a16",
   "metadata": {},
   "outputs": [
    {
     "name": "stdout",
     "output_type": "stream",
     "text": [
      "<bound method DataFrame.info of                              Stock Name   Code       Date   Price\n",
      "0       Abra Mining and Industrial Corp     AR   3-Mar-21  0.0046\n",
      "1       Abra Mining and Industrial Corp     AR   2-Mar-21  0.0054\n",
      "2       Abra Mining and Industrial Corp     AR   1-Mar-21  0.0036\n",
      "3       Abra Mining and Industrial Corp     AR  26-Feb-21  0.0034\n",
      "4       Abra Mining and Industrial Corp     AR  24-Feb-21  0.0034\n",
      "...                                 ...    ...        ...     ...\n",
      "481915                Ayala Corp Pref B  ACPB2  14-Nov-14     503\n",
      "481916                Ayala Corp Pref B  ACPB2  12-Nov-14     508\n",
      "481917                Ayala Corp Pref B  ACPB2  11-Nov-14     514\n",
      "481918                Ayala Corp Pref B  ACPB2  10-Nov-14     509\n",
      "481919                Ayala Corp Pref B  ACPB2   7-Nov-14     511\n",
      "\n",
      "[481920 rows x 4 columns]>\n"
     ]
    }
   ],
   "source": [
    "#Check & Review DataFrame Info\n",
    "print(df.info)"
   ]
  },
  {
   "cell_type": "code",
   "execution_count": 18,
   "id": "3649c1cd-c739-455a-89f0-6d94ba280203",
   "metadata": {},
   "outputs": [
    {
     "data": {
      "text/html": [
       "<div>\n",
       "<style scoped>\n",
       "    .dataframe tbody tr th:only-of-type {\n",
       "        vertical-align: middle;\n",
       "    }\n",
       "\n",
       "    .dataframe tbody tr th {\n",
       "        vertical-align: top;\n",
       "    }\n",
       "\n",
       "    .dataframe thead th {\n",
       "        text-align: right;\n",
       "    }\n",
       "</style>\n",
       "<table border=\"1\" class=\"dataframe\">\n",
       "  <thead>\n",
       "    <tr style=\"text-align: right;\">\n",
       "      <th></th>\n",
       "      <th>Stock Name</th>\n",
       "      <th>Code</th>\n",
       "      <th>Date</th>\n",
       "      <th>Price</th>\n",
       "    </tr>\n",
       "  </thead>\n",
       "  <tbody>\n",
       "    <tr>\n",
       "      <th>count</th>\n",
       "      <td>481920</td>\n",
       "      <td>481920</td>\n",
       "      <td>481920</td>\n",
       "      <td>481920.000</td>\n",
       "    </tr>\n",
       "    <tr>\n",
       "      <th>unique</th>\n",
       "      <td>301</td>\n",
       "      <td>303</td>\n",
       "      <td>2263</td>\n",
       "      <td>30605.000</td>\n",
       "    </tr>\n",
       "    <tr>\n",
       "      <th>top</th>\n",
       "      <td>Phoenix Petroleum Philippines Inc</td>\n",
       "      <td>MER</td>\n",
       "      <td>19-Jan-18</td>\n",
       "      <td>0.012</td>\n",
       "    </tr>\n",
       "    <tr>\n",
       "      <th>freq</th>\n",
       "      <td>2510</td>\n",
       "      <td>2259</td>\n",
       "      <td>282</td>\n",
       "      <td>1682.000</td>\n",
       "    </tr>\n",
       "  </tbody>\n",
       "</table>\n",
       "</div>"
      ],
      "text/plain": [
       "                               Stock Name    Code       Date       Price\n",
       "count                              481920  481920     481920  481920.000\n",
       "unique                                301     303       2263   30605.000\n",
       "top     Phoenix Petroleum Philippines Inc     MER  19-Jan-18       0.012\n",
       "freq                                 2510    2259        282    1682.000"
      ]
     },
     "execution_count": 18,
     "metadata": {},
     "output_type": "execute_result"
    }
   ],
   "source": [
    "#Descriptive Overview of Data Statistics\n",
    "df.describe()"
   ]
  },
  {
   "cell_type": "code",
   "execution_count": null,
   "id": "623cc699-5cc5-4671-8573-8ba1458b689b",
   "metadata": {},
   "outputs": [],
   "source": [
    "#Correlation of Variables\n",
    "print(df.corr())"
   ]
  },
  {
   "cell_type": "code",
   "execution_count": null,
   "id": "4127f352-66cd-4a56-a795-3dc5133e87aa",
   "metadata": {},
   "outputs": [],
   "source": [
    "#Heatmap of Variables\n",
    "plt.figure(figsize=(16,8))\n",
    "\n",
    "sns.heatmap(df.corr(), cmap=\"Blues\", annot=True)\n",
    "plt.show()"
   ]
  },
  {
   "cell_type": "code",
   "execution_count": null,
   "id": "dcef6d76-8f39-41a5-b828-8e16bb12e5ad",
   "metadata": {},
   "outputs": [],
   "source": [
    "#Show Visualization of Variables\n",
    "sns.pairplot(df)"
   ]
  },
  {
   "cell_type": "code",
   "execution_count": 2,
   "id": "6a913558-d5a1-4ef3-b536-b5af1736e623",
   "metadata": {},
   "outputs": [
    {
     "ename": "NameError",
     "evalue": "name 'df' is not defined",
     "output_type": "error",
     "traceback": [
      "\u001b[1;31m---------------------------------------------------------------------------\u001b[0m",
      "\u001b[1;31mNameError\u001b[0m                                 Traceback (most recent call last)",
      "Cell \u001b[1;32mIn[2], line 1\u001b[0m\n\u001b[1;32m----> 1\u001b[0m \u001b[43mdf\u001b[49m[\u001b[38;5;124m'\u001b[39m\u001b[38;5;124mOpen\u001b[39m\u001b[38;5;124m'\u001b[39m]\u001b[38;5;241m.\u001b[39mhist()\n\u001b[0;32m      2\u001b[0m plt\u001b[38;5;241m.\u001b[39mshow()\n",
      "\u001b[1;31mNameError\u001b[0m: name 'df' is not defined"
     ]
    }
   ],
   "source": [
    "df['Open'].hist()\n",
    "plt.show()"
   ]
  },
  {
   "cell_type": "code",
   "execution_count": null,
   "id": "0b237c0d-7452-4424-862e-329db200273c",
   "metadata": {},
   "outputs": [],
   "source": [
    "df['High'].hist()"
   ]
  },
  {
   "cell_type": "code",
   "execution_count": null,
   "id": "230d2466-0144-4f51-9db6-311881baeaf1",
   "metadata": {},
   "outputs": [],
   "source": [
    "df['Low'].hist()"
   ]
  },
  {
   "cell_type": "code",
   "execution_count": null,
   "id": "65f7511f-247d-4771-82b3-6eef63a11d9d",
   "metadata": {},
   "outputs": [],
   "source": [
    "df['Volume'].hist()"
   ]
  },
  {
   "cell_type": "code",
   "execution_count": null,
   "id": "1825ed6f-d2c6-4645-94dc-4d3f9aca629c",
   "metadata": {},
   "outputs": [],
   "source": [
    "df['Change%'].hist()"
   ]
  },
  {
   "cell_type": "code",
   "execution_count": null,
   "id": "13684af5-abaa-4154-b963-36a4b36666eb",
   "metadata": {},
   "outputs": [],
   "source": [
    "#Review Box Plots\n",
    "f, axes = plt.subplots(1,4)\n",
    "sns.boxplot( y='Open', data=df, ax=axes[0])\n",
    "sns.boxplot( y='High', data=df, ax=axes[1])\n",
    "sns.boxplot( y='Low', data=df, ax=axes[2])\n",
    "sns.boxplot( y='Volume', data=df, ax=axes[3])\n",
    "sns.boxplot( y='Change%', data=df, ax=axes[4])"
   ]
  },
  {
   "cell_type": "code",
   "execution_count": null,
   "id": "cbdd2bd2-5343-4479-b2ee-dc8e833b84af",
   "metadata": {},
   "outputs": [],
   "source": [
    "import plotly.graph_object as go\n",
    "\n",
    "figure = go.Figure(data[go.Candlestick(x=df[\"Date\"],\n",
    "                                       open=df[\"Open\"], high=df[\"High\"],\n",
    "                                       low=df[\"Low\"], volume=[\"Volume\"])])\n",
    "figure.update_layout(title = \"PSE Stock Price Analysis\", xaxis_rangeslider_visible=False)\n",
    "figure.show()"
   ]
  },
  {
   "cell_type": "code",
   "execution_count": null,
   "id": "0246c5bf-7bc3-4c2c-803e-dd94c4a3b4d8",
   "metadata": {},
   "outputs": [],
   "source": []
  }
 ],
 "metadata": {
  "kernelspec": {
   "display_name": "Python 3 (ipykernel)",
   "language": "python",
   "name": "python3"
  },
  "language_info": {
   "codemirror_mode": {
    "name": "ipython",
    "version": 3
   },
   "file_extension": ".py",
   "mimetype": "text/x-python",
   "name": "python",
   "nbconvert_exporter": "python",
   "pygments_lexer": "ipython3",
   "version": "3.12.2"
  }
 },
 "nbformat": 4,
 "nbformat_minor": 5
}
